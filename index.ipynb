{
 "cells": [
  {
   "cell_type": "markdown",
   "id": "e1cf1c9f",
   "metadata": {},
   "source": [
    "## Loading Data"
   ]
  },
  {
   "cell_type": "code",
   "execution_count": null,
   "id": "fd5ec340",
   "metadata": {},
   "outputs": [],
   "source": [
    "import pandas as pd"
   ]
  },
  {
   "cell_type": "code",
   "execution_count": 9,
   "id": "6cf6122b",
   "metadata": {},
   "outputs": [],
   "source": [
    "\n",
    "# 1. Economic Well-being\n",
    "\n",
    "df_gdp_per_capita = pd.read_csv(r\"C:\\Users\\rathn\\OneDrive - Dundalk Institute of Technology\\Year 4\\Semester 2\\Data Analysis and Visualization\\CA_Datasets\\GDP_Data_1.1.csv\")\n",
    "df_unemployment_rate=pd.read_csv(r\"C:\\Users\\rathn\\OneDrive - Dundalk Institute of Technology\\Year 4\\Semester 2\\Data Analysis and Visualization\\CA_Datasets\\Unemployment_Rate_Data_1.2.csv\")\n",
    "df_median_income=pd.read_csv(r\"C:\\Users\\rathn\\OneDrive - Dundalk Institute of Technology\\Year 4\\Semester 2\\Data Analysis and Visualization\\CA_Datasets\\Median_Income_Data_1.3.csv\")\n",
    "df_poverty_rate=pd.read_csv(r\"C:\\Users\\rathn\\OneDrive - Dundalk Institute of Technology\\Year 4\\Semester 2\\Data Analysis and Visualization\\CA_Datasets\\Poverty_Rate_Data_1.4.csv\")\n",
    "df_inflation_rate=pd.read_csv(r\"C:\\Users\\rathn\\OneDrive - Dundalk Institute of Technology\\Year 4\\Semester 2\\Data Analysis and Visualization\\CA_Datasets\\Inflation_Rate_Data_1.5.csv\")\n",
    "\n",
    "# 2. Health & Wellness\n",
    "\n",
    "df_life_expectancy = pd.read_csv(r\"C:\\Users\\rathn\\OneDrive - Dundalk Institute of Technology\\Year 4\\Semester 2\\Data Analysis and Visualization\\CA_Datasets\\Life_Expectancy_Data_2.1.csv\")\n",
    "df_health_expenditure = pd.read_csv(r\"C:\\Users\\rathn\\OneDrive - Dundalk Institute of Technology\\Year 4\\Semester 2\\Data Analysis and Visualization\\CA_Datasets\\Health_Expenditure_Data_2.2.csv\")\n",
    "df_obesity_rate = pd.read_csv(r\"C:\\Users\\rathn\\OneDrive - Dundalk Institute of Technology\\Year 4\\Semester 2\\Data Analysis and Visualization\\CA_Datasets\\Obesity_Rate_Data_2.3.csv\")\n",
    "df_hospital_beds = pd.read_csv(r\"C:\\Users\\rathn\\OneDrive - Dundalk Institute of Technology\\Year 4\\Semester 2\\Data Analysis and Visualization\\CA_Datasets\\Hospital_Beds_Data_2.4.csv\")\n",
    "df_mental_health = pd.read_csv(r\"C:\\Users\\rathn\\OneDrive - Dundalk Institute of Technology\\Year 4\\Semester 2\\Data Analysis and Visualization\\CA_Datasets\\Mental_Health_Data_2.5.csv\")\n",
    "\n",
    "# 3. Education & Skills\n",
    "\n",
    "df_tertiary_education = pd.read_csv(r\"C:\\Users\\rathn\\OneDrive - Dundalk Institute of Technology\\Year 4\\Semester 2\\Data Analysis and Visualization\\CA_Datasets\\Tertiary_Education_Data_3.1.csv\")\n",
    "df_student_teacher_ratio = pd.read_csv(r\"C:\\Users\\rathn\\OneDrive - Dundalk Institute of Technology\\Year 4\\Semester 2\\Data Analysis and Visualization\\CA_Datasets\\Student_Teacher_Ratio_Data_3.2.csv\")\n",
    "df_early_leavers = pd.read_csv(r\"C:\\Users\\rathn\\OneDrive - Dundalk Institute of Technology\\Year 4\\Semester 2\\Data Analysis and Visualization\\CA_Datasets\\Early_Leavers_Data_3.3.csv\")\n",
    "df_adult_participation = pd.read_csv(r\"C:\\Users\\rathn\\OneDrive - Dundalk Institute of Technology\\Year 4\\Semester 2\\Data Analysis and Visualization\\CA_Datasets\\Adult_Participation_Data_3.4.csv\")\n",
    "df_education_expenditure = pd.read_csv(r\"C:\\Users\\rathn\\OneDrive - Dundalk Institute of Technology\\Year 4\\Semester 2\\Data Analysis and Visualization\\CA_Datasets\\Expenditure_Education_Data_3.5.csv\")\n",
    "\n",
    "# 4. Environmental Sustainability\n",
    "\n",
    "df_co2_emissions= pd.read_csv(r\"C:\\Users\\rathn\\OneDrive - Dundalk Institute of Technology\\Year 4\\Semester 2\\Data Analysis and Visualization\\CA_Datasets\\CO2_Data_4.1.csv\")\n",
    "df_renewable_energy = pd.read_csv(r\"C:\\Users\\rathn\\OneDrive - Dundalk Institute of Technology\\Year 4\\Semester 2\\Data Analysis and Visualization\\CA_Datasets\\Renewable Energy_Data_4.2.csv\")\n",
    "df_waste_recycling= pd.read_csv(r\"C:\\Users\\rathn\\OneDrive - Dundalk Institute of Technology\\Year 4\\Semester 2\\Data Analysis and Visualization\\CA_Datasets\\Waste_Recycling_Data_4.3.csv\")\n",
    "df_air_pollution = pd.read_csv(r\"C:\\Users\\rathn\\OneDrive - Dundalk Institute of Technology\\Year 4\\Semester 2\\Data Analysis and Visualization\\CA_Datasets\\Air_Pollution_Data_4.4.csv\")\n",
    "df_environmental_taxes = pd.read_csv(r\"C:\\Users\\rathn\\OneDrive - Dundalk Institute of Technology\\Year 4\\Semester 2\\Data Analysis and Visualization\\CA_Datasets\\Environmental_Taxes_Data_4.5.csv\")\n",
    "\n",
    "# 5. Social Inclusion\n",
    "\n",
    "df_crime_rate = pd.read_csv(r\"C:\\Users\\rathn\\OneDrive - Dundalk Institute of Technology\\Year 4\\Semester 2\\Data Analysis and Visualization\\CA_Datasets\\Crime_Data_5.1.csv\")\n",
    "df_poverty_social_exclusion = pd.read_csv(r\"C:\\Users\\rathn\\OneDrive - Dundalk Institute of Technology\\Year 4\\Semester 2\\Data Analysis and Visualization\\CA_Datasets\\Poverty_Social _Exclusion_Data_5.2.csv\")\n",
    "df_deprivation_rate = pd.read_csv(r\"C:\\Users\\rathn\\OneDrive - Dundalk Institute of Technology\\Year 4\\Semester 2\\Data Analysis and Visualization\\CA_Datasets\\Deprivation_Rate_Data_5.3.csv\")\n",
    "df_income_inequality= pd.read_csv(r\"C:\\Users\\rathn\\OneDrive - Dundalk Institute of Technology\\Year 4\\Semester 2\\Data Analysis and Visualization\\CA_Datasets\\Income_Inequality_Data_5.4.csv\")\n",
    "df_employment_female= pd.read_csv(r\"C:\\Users\\rathn\\OneDrive - Dundalk Institute of Technology\\Year 4\\Semester 2\\Data Analysis and Visualization\\CA_Datasets\\Employment_Female_Data.csv\")\n",
    "df_employment_male= pd.read_csv(r\"C:\\Users\\rathn\\OneDrive - Dundalk Institute of Technology\\Year 4\\Semester 2\\Data Analysis and Visualization\\CA_Datasets\\Employment_Male_Data.csv\")\n"
   ]
  },
  {
   "cell_type": "markdown",
   "id": "4383b550",
   "metadata": {},
   "source": [
    "## Clean Each Dataset"
   ]
  },
  {
   "cell_type": "code",
   "execution_count": 10,
   "id": "bdc90597",
   "metadata": {},
   "outputs": [],
   "source": [
    "# Clean function for all datasets\n",
    "\n",
    "def clean_and_transform(df, value_name):\n",
    "    # Drop common metadata columns\n",
    "    df = df.drop(columns=[col for col in df.columns if col in ['DATAFLOW', 'LAST UPDATE', 'freq', 'unit', 'OBS_FLAG']], errors='ignore')\n",
    "    \n",
    "    # Rename country column \n",
    "    geo_col = [col for col in df.columns if 'geo' in col.lower()]\n",
    "    if geo_col:\n",
    "        df.rename(columns={geo_col[0]: 'Country'}, inplace=True)\n",
    "    \n",
    "    # Melt year columns into 'Year' and 'Value'\n",
    "    df = df.melt(id_vars='Country', var_name='Year', value_name=value_name)\n",
    "    \n",
    "    # Clean up year and value columns\n",
    "    df['Year'] = pd.to_numeric(df['Year'], errors='coerce')\n",
    "    df[value_name] = pd.to_numeric(df[value_name], errors='coerce')\n",
    "    df = df.dropna(subset=['Year', value_name])\n",
    "    df['Year'] = df['Year'].astype(int)\n",
    "    \n",
    "    return df\n"
   ]
  },
  {
   "cell_type": "markdown",
   "id": "39c0d463",
   "metadata": {},
   "source": [
    "##  Clean All and Merge"
   ]
  },
  {
   "cell_type": "code",
   "execution_count": 11,
   "id": "bace7c65",
   "metadata": {},
   "outputs": [],
   "source": [
    "# Clean all datasets\n",
    "df_gdp = clean_and_transform(df_gdp_per_capita, \"GDP_per_capita\")\n",
    "df_unemp = clean_and_transform(df_unemployment_rate, \"Unemployment_rate\")\n",
    "df_income = clean_and_transform(df_median_income, \"Median_income\")\n",
    "df_poverty = clean_and_transform(df_poverty_rate, \"Poverty_rate\")\n",
    "df_inflation = clean_and_transform(df_inflation_rate, \"Inflation_rate\")\n",
    "\n",
    "df_life = clean_and_transform(df_life_expectancy, \"Life_expectancy\")\n",
    "df_health_exp = clean_and_transform(df_health_expenditure, \"Health_expenditure\")\n",
    "df_obesity = clean_and_transform(df_obesity_rate, \"Obesity_rate\")\n",
    "df_beds = clean_and_transform(df_hospital_beds, \"Hospital_beds\")\n",
    "df_mental = clean_and_transform(df_mental_health, \"Mental_health\")\n",
    "\n",
    "df_tertiary = clean_and_transform(df_tertiary_education, \"Tertiary_education\")\n",
    "df_ratio = clean_and_transform(df_student_teacher_ratio, \"Student_teacher_ratio\")\n",
    "df_early = clean_and_transform(df_early_leavers, \"Early_leavers\")\n",
    "df_adult = clean_and_transform(df_adult_participation, \"Adult_participation\")\n",
    "df_edu_exp = clean_and_transform(df_education_expenditure, \"Education_expenditure\")\n",
    "\n",
    "df_co2 = clean_and_transform(df_co2_emissions, \"CO2_emissions\")\n",
    "df_renew = clean_and_transform(df_renewable_energy, \"Renewable_energy\")\n",
    "df_recycle = clean_and_transform(df_waste_recycling, \"Waste_recycling\")\n",
    "df_pollution = clean_and_transform(df_air_pollution, \"Air_pollution\")\n",
    "df_taxes = clean_and_transform(df_environmental_taxes, \"Environmental_taxes\")\n",
    "\n",
    "df_crime = clean_and_transform(df_crime_rate, \"Crime_rate\")\n",
    "df_exclusion = clean_and_transform(df_poverty_social_exclusion, \"Poverty_social_exclusion\")\n",
    "df_deprivation = clean_and_transform(df_deprivation_rate, \"Deprivation_rate\")\n",
    "df_inequality = clean_and_transform(df_income_inequality, \"Income_inequality\")\n",
    "df_female = clean_and_transform(df_employment_female, \"Employment_female\")\n",
    "df_male = clean_and_transform(df_employment_male, \"Employment_male\")\n"
   ]
  }
 ],
 "metadata": {
  "kernelspec": {
   "display_name": "Python 3",
   "language": "python",
   "name": "python3"
  },
  "language_info": {
   "codemirror_mode": {
    "name": "ipython",
    "version": 3
   },
   "file_extension": ".py",
   "mimetype": "text/x-python",
   "name": "python",
   "nbconvert_exporter": "python",
   "pygments_lexer": "ipython3",
   "version": "3.13.3"
  }
 },
 "nbformat": 4,
 "nbformat_minor": 5
}
